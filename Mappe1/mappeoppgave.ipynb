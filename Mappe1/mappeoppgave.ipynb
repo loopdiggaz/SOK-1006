{
 "cells": [
  {
   "attachments": {},
   "cell_type": "markdown",
   "metadata": {},
   "source": [
    "#### Hvorfor turistskatt?\n",
    "Et reisemål inneholder flere fellesgoder som ikke tilfaller den enkelte næringsaktør, men som er av betydning for reisemålets attraksjons verdi. Godene har en betydning for næringsaktørenes kundegrunnlag og omsetning. Tilrettelegging av ulike aktiviteter, informasjon, opplevelser og miljøet på reisemålet er alle viktige faktorer som påvirker opplevelesen av et reisemål, og det er ikke bare næringsaktærene som bidrar til den totale opplevelsen. Staten, fylkeskommuner, kommuner, frivillighet og næringlivet bidrar alle i ulik grad og på forskjellige måter til å finansiere goder som er tilknyttet reiselivet (regjeringen, 2023). Fellesgodene kan ved hjelp av turistskatt eller et besøksbidrag finansieres, og bidra til innsamling av midler som går til videre utvikling.  \n",
    "\n",
    "Populære turistattraksjoner slik som Nordkapp, Beitostølen og Lofoten er alle opp til vurdering for turistskatt. Formålet med skatten er å senke trykket av turister, og gjøre næringen mer bærekraftig og helårlig. Per nå er ingen av reisemålene tildelt skatten, men Lofoten blir mest sannsynligvis pilotprosjektet. \n",
    "\n",
    "\n"
   ]
  },
  {
   "attachments": {},
   "cell_type": "markdown",
   "metadata": {},
   "source": [
    "#### Kildeliste\n",
    "\n",
    "Regjeringen. (2023, 19. Januar). Vurderer destinasjoner for besøksbidrag.\n",
    "https://www.regjeringen.no/no/aktuelt/vurderer-destinasjoner-for-besoksbidrag/id2959885/?expand=factbox2959954"
   ]
  }
 ],
 "metadata": {
  "kernelspec": {
   "display_name": "Python 3",
   "language": "python",
   "name": "python3"
  },
  "language_info": {
   "name": "python",
   "version": "3.10.10"
  },
  "orig_nbformat": 4,
  "vscode": {
   "interpreter": {
    "hash": "eed5d0e98674c91e5b6a352f0a08e3131dd647db755fe385a4350c9735e61ebb"
   }
  }
 },
 "nbformat": 4,
 "nbformat_minor": 2
}
