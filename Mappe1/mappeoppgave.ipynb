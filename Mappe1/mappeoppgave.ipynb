{
 "cells": [
  {
   "attachments": {},
   "cell_type": "markdown",
   "metadata": {},
   "source": [
    "## Kapittel 1. Innledning "
   ]
  },
  {
   "attachments": {},
   "cell_type": "markdown",
   "metadata": {},
   "source": [
    "#### Avgifter \n",
    "\n",
    "Priser er med å påvirke de beslutningene konsumenter tar når de bestemmer hva de skal kjøpe eller konsumere av ulike goder (Andreassen et al., 2021, s. 34.) \n",
    "\n",
    "Stortinget kan indirekte igjennom avgifter eller skatter være med å påvirke beslutninger. Gjennom avgifter kan for eksempel en CO2 avgift på produksjon av sement, eller en CO2 avgift på bruk av bensin og diesel være med å påvirke beslutninger til de ulike aktørene i økonomien. På lik linje kan stortinget innføre en turistskatt eller en avgift på reiselivet. Vi kan bruke konkrete eksempler her: et besøksbidrag vil skape inntekter til staten, disse inntektene kan brukes til å forbedre goder som er tilknyttet reiselivet. Det kan bety bedre tilretteleggelse av aktiviteter, noe som igjen bidra til at næringen blir mer helårlig, skaper mer verdier, og at næringen samtidig bidrar til et grønnere skifte. En avgift vil dermed kunne stimulere reiselivet, som nettopp har vært igjennom to år med en tøff pandemi. Man kan også argumentere for at en slik avgift kan ha motsatt effekt. Økte avgifter fører til økte priser og mindre etterspørsel, og kan på lang sikt være uønsket. Slike økonomiske årsak-virkninger sammenhenger kan være vanskelige å oppdage, og blir viktige når det arbeides med samfunnsøkonomiske spørsmål. \n",
    "\n",
    "#### Hvorfor turistskatt?\n",
    "\n",
    "Et reisemål inneholder flere fellesgoder som ikke tilfaller den enkelte næringsaktør, men som er av betydning for reisemålets attraksjons verdi. Tilrettelegging av ulike aktiviteter, informasjon, opplevelser og miljøet på reisemålet er alle viktige faktorer som påvirker opplevelsen av et reisemål, og det er ikke bare næringsaktørene som bidrar til den totale opplevelsen. Staten, fylkeskommuner, kommuner, frivillighet og næringslivet bidrar alle i ulik grad og på forskjellige måter til å finansiere goder som er tilknyttet reiselivet (regjeringen, 2023). Disse godene har en betydning for næringsaktørenes kundegrunnlag og omsetning. Fellesgodene kan ved hjelp av turistskatt eller et besøksbidrag finansieres, og dette kan bidra til videre utvikling av fellesgodene.\n",
    "\n",
    "#### Lofoten - Pilotprosjekt\n",
    "\n",
    "Populære turistattraksjoner slik som Nordkapp, Beitostølen og Lofoten er alle opp til vurdering for besøksbidrag. Formålet med avgiften er å senke trykket av turister, og gjøre næringen mer bærekraftig og helårlig. Per har ingen av reisemålene innført avgiften, men Lofoten er blant de mest aktuelle ifølge næringsminister, Jan Christian Vestre. \n",
    "\n"
   ]
  },
  {
   "attachments": {},
   "cell_type": "markdown",
   "metadata": {},
   "source": [
    "## Kapittel 2. Markedet"
   ]
  },
  {
   "cell_type": "code",
   "execution_count": 26,
   "metadata": {},
   "outputs": [],
   "source": [
    "import json\n",
    "import pandas as pd\n",
    "import requests\n",
    "from pyjstat import pyjstat\n",
    "\n",
    "postUrl = \"https://data.ssb.no/api/v0/no/table/10604/\"\n",
    "\n",
    "apiQuery = {\n",
    "  \"query\": [\n",
    "    {\n",
    "      \"code\": \"Reiseliv\",\n",
    "      \"selection\": {\n",
    "        \"filter\": \"item\",\n",
    "        \"values\": [\n",
    "          \"OTV\"\n",
    "        ]\n",
    "      }\n",
    "    }\n",
    "  ],\n",
    "  \"response\": {\n",
    "    \"format\": \"json-stat2\"\n",
    "  }\n",
    "}"
   ]
  },
  {
   "cell_type": "code",
   "execution_count": 27,
   "metadata": {},
   "outputs": [
    {
     "data": {
      "text/html": [
       "<div>\n",
       "<style scoped>\n",
       "    .dataframe tbody tr th:only-of-type {\n",
       "        vertical-align: middle;\n",
       "    }\n",
       "\n",
       "    .dataframe tbody tr th {\n",
       "        vertical-align: top;\n",
       "    }\n",
       "\n",
       "    .dataframe thead th {\n",
       "        text-align: right;\n",
       "    }\n",
       "</style>\n",
       "<table border=\"1\" class=\"dataframe\">\n",
       "  <thead>\n",
       "    <tr style=\"text-align: right;\">\n",
       "      <th></th>\n",
       "      <th>reiselivsnæring</th>\n",
       "      <th>statistikkvariabel</th>\n",
       "      <th>år</th>\n",
       "      <th>value</th>\n",
       "    </tr>\n",
       "  </thead>\n",
       "  <tbody>\n",
       "    <tr>\n",
       "      <th>0</th>\n",
       "      <td>Overnattingsvirksomhet</td>\n",
       "      <td>Sysselsetting (1 000 årsverk, heltidsekvivalen...</td>\n",
       "      <td>2011</td>\n",
       "      <td>21.4</td>\n",
       "    </tr>\n",
       "    <tr>\n",
       "      <th>1</th>\n",
       "      <td>Overnattingsvirksomhet</td>\n",
       "      <td>Sysselsetting (1 000 årsverk, heltidsekvivalen...</td>\n",
       "      <td>2012</td>\n",
       "      <td>21.9</td>\n",
       "    </tr>\n",
       "    <tr>\n",
       "      <th>2</th>\n",
       "      <td>Overnattingsvirksomhet</td>\n",
       "      <td>Sysselsetting (1 000 årsverk, heltidsekvivalen...</td>\n",
       "      <td>2013</td>\n",
       "      <td>22.0</td>\n",
       "    </tr>\n",
       "    <tr>\n",
       "      <th>3</th>\n",
       "      <td>Overnattingsvirksomhet</td>\n",
       "      <td>Sysselsetting (1 000 årsverk, heltidsekvivalen...</td>\n",
       "      <td>2014</td>\n",
       "      <td>22.8</td>\n",
       "    </tr>\n",
       "    <tr>\n",
       "      <th>4</th>\n",
       "      <td>Overnattingsvirksomhet</td>\n",
       "      <td>Sysselsetting (1 000 årsverk, heltidsekvivalen...</td>\n",
       "      <td>2015</td>\n",
       "      <td>23.5</td>\n",
       "    </tr>\n",
       "    <tr>\n",
       "      <th>5</th>\n",
       "      <td>Overnattingsvirksomhet</td>\n",
       "      <td>Sysselsetting (1 000 årsverk, heltidsekvivalen...</td>\n",
       "      <td>2016</td>\n",
       "      <td>23.8</td>\n",
       "    </tr>\n",
       "    <tr>\n",
       "      <th>6</th>\n",
       "      <td>Overnattingsvirksomhet</td>\n",
       "      <td>Sysselsetting (1 000 årsverk, heltidsekvivalen...</td>\n",
       "      <td>2017</td>\n",
       "      <td>24.2</td>\n",
       "    </tr>\n",
       "    <tr>\n",
       "      <th>7</th>\n",
       "      <td>Overnattingsvirksomhet</td>\n",
       "      <td>Sysselsetting (1 000 årsverk, heltidsekvivalen...</td>\n",
       "      <td>2018</td>\n",
       "      <td>24.5</td>\n",
       "    </tr>\n",
       "    <tr>\n",
       "      <th>8</th>\n",
       "      <td>Overnattingsvirksomhet</td>\n",
       "      <td>Sysselsetting (1 000 årsverk, heltidsekvivalen...</td>\n",
       "      <td>2019</td>\n",
       "      <td>24.9</td>\n",
       "    </tr>\n",
       "    <tr>\n",
       "      <th>9</th>\n",
       "      <td>Overnattingsvirksomhet</td>\n",
       "      <td>Sysselsetting (1 000 årsverk, heltidsekvivalen...</td>\n",
       "      <td>2020</td>\n",
       "      <td>20.3</td>\n",
       "    </tr>\n",
       "    <tr>\n",
       "      <th>10</th>\n",
       "      <td>Overnattingsvirksomhet</td>\n",
       "      <td>Sysselsetting (1 000 årsverk, heltidsekvivalen...</td>\n",
       "      <td>2021</td>\n",
       "      <td>NaN</td>\n",
       "    </tr>\n",
       "  </tbody>\n",
       "</table>\n",
       "</div>"
      ],
      "text/plain": [
       "           reiselivsnæring                                 statistikkvariabel  \\\n",
       "0   Overnattingsvirksomhet  Sysselsetting (1 000 årsverk, heltidsekvivalen...   \n",
       "1   Overnattingsvirksomhet  Sysselsetting (1 000 årsverk, heltidsekvivalen...   \n",
       "2   Overnattingsvirksomhet  Sysselsetting (1 000 årsverk, heltidsekvivalen...   \n",
       "3   Overnattingsvirksomhet  Sysselsetting (1 000 årsverk, heltidsekvivalen...   \n",
       "4   Overnattingsvirksomhet  Sysselsetting (1 000 årsverk, heltidsekvivalen...   \n",
       "5   Overnattingsvirksomhet  Sysselsetting (1 000 årsverk, heltidsekvivalen...   \n",
       "6   Overnattingsvirksomhet  Sysselsetting (1 000 årsverk, heltidsekvivalen...   \n",
       "7   Overnattingsvirksomhet  Sysselsetting (1 000 årsverk, heltidsekvivalen...   \n",
       "8   Overnattingsvirksomhet  Sysselsetting (1 000 årsverk, heltidsekvivalen...   \n",
       "9   Overnattingsvirksomhet  Sysselsetting (1 000 årsverk, heltidsekvivalen...   \n",
       "10  Overnattingsvirksomhet  Sysselsetting (1 000 årsverk, heltidsekvivalen...   \n",
       "\n",
       "      år  value  \n",
       "0   2011   21.4  \n",
       "1   2012   21.9  \n",
       "2   2013   22.0  \n",
       "3   2014   22.8  \n",
       "4   2015   23.5  \n",
       "5   2016   23.8  \n",
       "6   2017   24.2  \n",
       "7   2018   24.5  \n",
       "8   2019   24.9  \n",
       "9   2020   20.3  \n",
       "10  2021    NaN  "
      ]
     },
     "execution_count": 27,
     "metadata": {},
     "output_type": "execute_result"
    }
   ],
   "source": [
    "def apiToDataframe(postUrl, query):\n",
    "\n",
    "    # postUrl som spørringen skal postes mot\n",
    "    # Spørringen og endepunktet til API-et kan hentes fra Statistikkbanken.\n",
    "\n",
    "    res = requests.post(postUrl, json=query)\n",
    "    # legger resultat i ds. DS har i tillegg en del metadata\n",
    "    ds = pyjstat.Dataset.read(res.text)\n",
    "    # skriver resultatet til to dataframes\n",
    "    # først dataframe med tekst\n",
    "    df = ds.write('dataframe')\n",
    "    # deretter dataframe med koder\n",
    "    df_id = ds.write('dataframe', naming='id')\n",
    "    # returnerer også ds i tilfelle en trenger metadata\n",
    "    return df, df_id, ds\n",
    "\n",
    "df, df_id, ds = apiToDataframe(postUrl, apiQuery)\n",
    "\n",
    "df"
   ]
  },
  {
   "cell_type": "code",
   "execution_count": 44,
   "metadata": {},
   "outputs": [
    {
     "data": {
      "image/png": "[encoded data removed]",
      "text/plain": [
       "<Figure size 640x480 with 1 Axes>"
      ]
     },
     "metadata": {},
     "output_type": "display_data"
    }
   ],
   "source": [
    "from matplotlib import pyplot as plt\n",
    "\n",
    "fig, ax = plt.subplots()\n",
    "ax.plot(df['år'],df['value']*1000, label = 'sysselsetting', marker = 'o')\n",
    "ax.legend(loc='best', frameon = False)\n",
    "ax.title.set_text('Sysselsetting i overnattingsvirksomhet')\n",
    "ax.spines['top'].set_color('none')\n",
    "ax.spines['right'].set_color('none')\n",
    "ax.set_xlabel('År');"
   ]
  },
  {
   "attachments": {},
   "cell_type": "markdown",
   "metadata": {},
   "source": [
    "#### Kildeliste\n",
    "\n",
    "Regjeringen. (2023, 19. Januar). Vurderer destinasjoner for besøksbidrag.\n",
    "https://www.regjeringen.no/no/aktuelt/vurderer-destinasjoner-for-besoksbidrag/id2959885/?expand=factbox2959954\n",
    "\n",
    "Andreassen, Viggo., Bredesen, Ivar., Thøgersen, Joachim. (2021). Innføring i Mikroøkonomi. For økonomisk-administrative stuider (3.utg). Cappelen Damm. "
   ]
  }
 ],
 "metadata": {
  "kernelspec": {
   "display_name": "Python 3",
   "language": "python",
   "name": "python3"
  },
  "language_info": {
   "codemirror_mode": {
    "name": "ipython",
    "version": 3
   },
   "file_extension": ".py",
   "mimetype": "text/x-python",
   "name": "python",
   "nbconvert_exporter": "python",
   "pygments_lexer": "ipython3",
   "version": "3.10.10"
  },
  "orig_nbformat": 4,
  "vscode": {
   "interpreter": {
    "hash": "eed5d0e98674c91e5b6a352f0a08e3131dd647db755fe385a4350c9735e61ebb"
   }
  }
 },
 "nbformat": 4,
 "nbformat_minor": 2
}
