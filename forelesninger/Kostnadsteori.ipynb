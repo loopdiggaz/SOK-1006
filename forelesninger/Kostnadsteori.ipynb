{
 "cells": [
  {
   "attachments": {},
   "cell_type": "markdown",
   "metadata": {},
   "source": [
    "### Kostnadsteori på lang sikt"
   ]
  },
  {
   "cell_type": "code",
   "execution_count": 1,
   "metadata": {},
   "outputs": [
    {
     "data": {
      "text/latex": [
       "$\\displaystyle - \\frac{N w}{r} + \\frac{c}{r}$"
      ],
      "text/plain": [
       "-N*w/r + c/r"
      ]
     },
     "execution_count": 1,
     "metadata": {},
     "output_type": "execute_result"
    }
   ],
   "source": [
    "import sympy as sp\n",
    "\n",
    "N, K , w , r , c = sp.symbols('N K w r c', positive=True, real=True)\n",
    "\n",
    "eq = sp.Eq(w*N + r*K,c)\n",
    "\n",
    "sol_k = sp.solve(eq,K)\n",
    "\n",
    "sol_k[0]\n",
    "\n",
    "kost = sp.expand(sol_k[0])\n",
    "\n",
    "def kostnadsfunksjon(N,w,r):\n",
    "    return -(N*w/r)+c/r\n",
    "\n",
    "kostnadsfunksjon(N,w,r)"
   ]
  },
  {
   "attachments": {},
   "cell_type": "markdown",
   "metadata": {},
   "source": [
    "Kostnadsfunksjon blir en rett linje ettersom faktor prisene er gitte. "
   ]
  },
  {
   "cell_type": "code",
   "execution_count": 2,
   "metadata": {},
   "outputs": [
    {
     "data": {
      "text/latex": [
       "$\\displaystyle - \\frac{w}{r}$"
      ],
      "text/plain": [
       "-w/r"
      ]
     },
     "execution_count": 2,
     "metadata": {},
     "output_type": "execute_result"
    }
   ],
   "source": [
    "# helning til kostnadslinjen:\n",
    "\n",
    "isokost = sp.diff(kostnadsfunksjon(N,w,r),N)\n",
    "\n",
    "isokost"
   ]
  },
  {
   "attachments": {},
   "cell_type": "markdown",
   "metadata": {},
   "source": [
    "Forholdet mellom w og r er bytteforholdet. Dette forholdet er markedsbestemt av faktorprisene alene. Dersom arbeidsinnsatsen øker med en enhet, pålegger markedet produsenten å redusere innsatsen av realkapital slik at kostnadende ikke øker. Dersom forholdet mellom w og r er 0,5, redusres innsatsen av realkapital med 0,5. Derfor befinner vi oss også alltid på det samme produksjonsnivået C. Det siste leddet er konstant leddet og forteller oss hvor isokostnadslinjen treffer K - aksen. "
   ]
  }
 ],
 "metadata": {
  "kernelspec": {
   "display_name": "Python 3",
   "language": "python",
   "name": "python3"
  },
  "language_info": {
   "codemirror_mode": {
    "name": "ipython",
    "version": 3
   },
   "file_extension": ".py",
   "mimetype": "text/x-python",
   "name": "python",
   "nbconvert_exporter": "python",
   "pygments_lexer": "ipython3",
   "version": "3.11.5"
  },
  "orig_nbformat": 4
 },
 "nbformat": 4,
 "nbformat_minor": 2
}
