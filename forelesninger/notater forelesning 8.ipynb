{
 "cells": [
  {
   "cell_type": "markdown",
   "id": "fb1a8bf1-aaa8-4105-8b90-f533cc97e039",
   "metadata": {},
   "source": [
    "# SOK-1006 V23\n",
    "\n",
    "## Forelesning 8 - Produksjonsteknologi og skalaegenskaper"
   ]
  },
  {
   "cell_type": "markdown",
   "id": "0564274a-916b-4bfc-b823-7cb316e9f09f",
   "metadata": {},
   "source": [
    "### 1. Skalautbytte\n",
    "\n",
    "Vi er interessert i et mål for produksjonen når vi oppskalerer bruken av alle faktorer. Dette kalles skalautbytte. Dersom bedriften øker innsatsen av alle faktorer med 20% og den får en 20% økning i produksjon har bedriften en teknologi som viser *konstant* skalautbytte. Dersom produksjon øker med mer enn 20% viser teknologien *økende* skalautbytte; øker produksjon med mindre en den proporsjonale faktorøkningen har vi med en teknologi å gjøre med *avtakende* skalautbytte.       \n",
    "\n",
    "La oss tenke oss følgende produktfunksjon som forvandler arbeidskraft og kapital til et ferdig produkt:\n",
    "$$\n",
    "x=f(N,K).\n",
    "$$\n",
    "\n",
    "En økning i bruken av begge faktorer kan kapres matematisk ved å gange innsatsen med et tall $t>1$. Da blir produksjonsmengden gitt ved $f(tN,tK)$. Vi har\n",
    "\n",
    "- Konstant skalautbytte dersom $f(tN,tK)=tf(N,K)$\n",
    "- Økende skalautbytte dersom $f(tN,tK)>tf(N,K)$\n",
    "- Avtakende skalautbytte dersom $f(tN,tK)<tf(N,K).$"
   ]
  },
  {
   "cell_type": "markdown",
   "id": "7648fbed-0d79-4234-8e23-5af47a8a7b00",
   "metadata": {},
   "source": [
    "### 2. Et eksempel på kort sikt\n",
    "I forelesning 7 møtte vi en bedrift med produktfunksjon\n",
    "\n",
    "\\begin{equation}\n",
    "   x=f(N,K)=K\\frac{e^N}{A+e^N}\\tag{1}\n",
    "\\end{equation}\n",
    "\n",
    "hvor $N$ er enheter arbeidskraft (målt i timer), $K$ er enheter kapital og $A>0$ er et konstant tall.   \n",
    "$e$ er Eulers tall (ca. 2,7 1828 1828). På kort sikt er $K=1000$, og $A=200$.       \n",
    "\n",
    "Hva viser skalaegenskapene til denne produktfunskjonen på kort sikt? Dvs kapitalmengden er fast ved $K=1000$:\n",
    "\n",
    "\\begin{equation}\n",
    "   x=1000\\frac{e^N}{200+e^N}\\tag{2}\n",
    "\\end{equation}\n",
    "\n",
    "Her bruker vi $N$ enheter arbeidskraft og produserer $x$ enheter produkt. Hva om vi dobler $N$? Får vi ut mer enn $2x$ viser teknologien økende skalutbytte; mindre enn $2x$ avtakende, og nøyaktig $2x$ konstant.\n",
    "\n",
    "**Fremgangsmåte**     \n",
    "1. Vi lager en funksjon $1000\\frac{e^N}{200+e^N}$ som viser opprinnelig produksjonsmengde.\n",
    "2. Vi lager en ny funksjon som viser produsert mengde når vi dobler $N$ til $2N$: $1000\\frac{e^{2N}}{200+e^{2N}}$\n",
    "3. Vi beregner $1000\\frac{e^{2N}}{200+e^{2N}}-2(1000\\frac{e^N}{200+e^N})$ og undersøker fortegnet. Positivt betyr økende skalautbyte, negativt betyr avtakende, nøyaktig 0 betyr konstant skalutbytte.\n",
    "\n",
    "(NB. vi kan gange innsatsen med ethvert tall over 1)."
   ]
  },
  {
   "cell_type": "code",
   "execution_count": 21,
   "id": "7db428f9-937b-4273-814f-a97ed02dd9a3",
   "metadata": {},
   "outputs": [],
   "source": [
    "# importer pakkene som vi trenger\n",
    "import numpy as np\n",
    "from matplotlib import pyplot as plt\n",
    "import sympy as sp"
   ]
  },
  {
   "cell_type": "code",
   "execution_count": 15,
   "id": "97b5a8ea-4623-421e-b6ea-890d6d42a5d2",
   "metadata": {},
   "outputs": [],
   "source": [
    "# definer symboler\n",
    "N = sp.symbols('N', positive=True, real=True)"
   ]
  },
  {
   "cell_type": "code",
   "execution_count": 22,
   "id": "10365d07-ae45-4d72-a485-dcfc29f7e61a",
   "metadata": {},
   "outputs": [
    {
     "data": {
      "text/latex": [
       "$\\displaystyle \\frac{1000 e^{N}}{e^{N} + 200}$"
      ],
      "text/plain": [
       "1000*exp(N)/(exp(N) + 200)"
      ]
     },
     "execution_count": 22,
     "metadata": {},
     "output_type": "execute_result"
    }
   ],
   "source": [
    "# Vi definerer produktfn i utgangspunktet\n",
    "\n",
    "def prod(c,N):\n",
    "    produksjon=1000*(c.exp(N)/(200+c.exp(N)))\n",
    "    return produksjon\n",
    "prod(sp,N)"
   ]
  },
  {
   "cell_type": "code",
   "execution_count": 5,
   "id": "3618f386-aa7e-4e0c-91a7-a4c279681863",
   "metadata": {},
   "outputs": [
    {
     "data": {
      "text/latex": [
       "$\\displaystyle \\frac{1000 e^{2 N}}{e^{2 N} + 200}$"
      ],
      "text/plain": [
       "1000*exp(2*N)/(exp(2*N) + 200)"
      ]
     },
     "execution_count": 5,
     "metadata": {},
     "output_type": "execute_result"
    }
   ],
   "source": [
    "# Vi definerer produktfn med dobbel innsats\n",
    "\n",
    "def prod_2(c,N):\n",
    "    produksjon_2=1000*(c.exp(2*N)/(200+c.exp(2*N)))\n",
    "    return produksjon_2\n",
    "prod_2(sp,N)"
   ]
  },
  {
   "cell_type": "code",
   "execution_count": 6,
   "id": "92f1dd25-bf43-4b92-9776-e2634e588ac8",
   "metadata": {},
   "outputs": [
    {
     "data": {
      "text/latex": [
       "$\\displaystyle \\frac{1000 \\left(\\left(e^{N} + 200\\right) e^{N} - 2 e^{2 N} - 400\\right) e^{N}}{\\left(e^{N} + 200\\right) \\left(e^{2 N} + 200\\right)}$"
      ],
      "text/plain": [
       "1000*((exp(N) + 200)*exp(N) - 2*exp(2*N) - 400)*exp(N)/((exp(N) + 200)*(exp(2*N) + 200))"
      ]
     },
     "execution_count": 6,
     "metadata": {},
     "output_type": "execute_result"
    }
   ],
   "source": [
    "# Vi definerer differansen mellom disse\n",
    "\n",
    "overskudd=prod_2(sp,N)-2*prod(sp,N)\n",
    "sp.simplify(overskudd)"
   ]
  },
  {
   "cell_type": "markdown",
   "id": "5c784d8f-d152-41aa-9c52-be1d23e45b1a",
   "metadata": {},
   "source": [
    "Dette var ikke lett å tyde fortegnet på. Heldigvis kan vi få hjelp......."
   ]
  },
  {
   "cell_type": "code",
   "execution_count": 7,
   "id": "b9152abf-925e-4793-a676-530e5579d7fc",
   "metadata": {},
   "outputs": [
    {
     "data": {
      "text/latex": [
       "$\\displaystyle \\left(\\log{\\left(100 - 40 \\sqrt{6} \\right)}, \\log{\\left(40 \\sqrt{6} + 100 \\right)}\\right)$"
      ],
      "text/plain": [
       "Interval.open(log(100 - 40*sqrt(6)), log(40*sqrt(6) + 100))"
      ]
     },
     "execution_count": 7,
     "metadata": {},
     "output_type": "execute_result"
    }
   ],
   "source": [
    "# Finn verdiene for N hvor overskudd er positivt\n",
    "\n",
    "N_range=sp.solve_univariate_inequality(overskudd>0,N, relational=False)\n",
    "(N_range)"
   ]
  },
  {
   "cell_type": "markdown",
   "id": "cd2df647-c69f-438f-9c57-943f68deac7f",
   "metadata": {},
   "source": [
    "Dette betyr at `overskudd` er positiv for $N$ mellom disse verdiene. La oss gjøre om til desimaltall:"
   ]
  },
  {
   "cell_type": "code",
   "execution_count": 8,
   "id": "adc1e947-e476-4b5c-858a-1ca40c56c724",
   "metadata": {},
   "outputs": [
    {
     "data": {
      "text/plain": [
       "0.7033006039928141"
      ]
     },
     "execution_count": 8,
     "metadata": {},
     "output_type": "execute_result"
    }
   ],
   "source": [
    "float(sp.log(100-40*6**.5))"
   ]
  },
  {
   "cell_type": "code",
   "execution_count": 9,
   "id": "ad5cffb2-8b41-491b-a19b-0f22501703b0",
   "metadata": {},
   "outputs": [
    {
     "data": {
      "text/plain": [
       "5.288163943115169"
      ]
     },
     "execution_count": 9,
     "metadata": {},
     "output_type": "execute_result"
    }
   ],
   "source": [
    "float(sp.log(40*6**.5+100))"
   ]
  },
  {
   "cell_type": "markdown",
   "id": "6ad1d12a-0b12-4eff-bece-46a9f1e2a25e",
   "metadata": {},
   "source": [
    "Dersom $5.29>N>0.7$ får vi mer enn en dobling av produksjon dersom vi dobler $N$, dvs økende skalautbytte. La oss tegne `overskudd`."
   ]
  },
  {
   "cell_type": "code",
   "execution_count": 10,
   "id": "6f8f355b-251c-4c0d-8658-8f89ddff7b6b",
   "metadata": {},
   "outputs": [],
   "source": [
    "def overskudd(c,N):\n",
    "    return prod_2(c,N)-2*prod(c,N)\n"
   ]
  },
  {
   "cell_type": "code",
   "execution_count": 11,
   "id": "dcbaa161-8914-43ec-8e92-cca319a97d92",
   "metadata": {},
   "outputs": [
    {
     "data": {
      "image/png": "[encoded data removed]",
      "text/plain": [
       "<Figure size 640x480 with 1 Axes>"
      ]
     },
     "metadata": {},
     "output_type": "display_data"
    }
   ],
   "source": [
    "n=np.linspace(0.1,10,100)\n",
    "\n",
    "fig1, ax = plt.subplots()\n",
    "ax.set_ylabel('Overskudd', loc='top')\n",
    "ax.set_xlabel('Enheter arbeidskraft (N)', loc='right')\n",
    "ax.set(xlim=(0,10))\n",
    "ax.set(ylim=(-1000,600))\n",
    "ax.spines['top'].set_color('none')\n",
    "ax.spines['right'].set_color('none')\n",
    "                \n",
    "\n",
    "# plott funksjonen\n",
    "\n",
    "ax.plot(n, overskudd(np,n), label='overskudd')\n",
    "ax.hlines(0,0,10, linewidth=0.5, linestyle='dashed', color='red')\n",
    "ax.vlines(0.7,-1000, 0, linewidth=0.5, linestyle='dashed', color='red')\n",
    "ax.vlines(5.29,-1000, 0, linewidth=0.5, linestyle='dashed', color='red')\n",
    "\n",
    "ax.text(1.5, -400, \"Økende skalautbytte\")\n",
    "\n",
    "# tittel\n",
    "ax.set_title('Skalautbytte på kort sikt')\n",
    "\n",
    "#vis navnene:\n",
    "ax.legend(loc='best',frameon=False);"
   ]
  },
  {
   "cell_type": "markdown",
   "id": "0f37e093-fbc2-4500-b470-5a8e86c6e545",
   "metadata": {},
   "source": [
    "**Oppgave**\n",
    "\n",
    "*(i) Beregn grenseproduktiviteten til produktfunksjonen i (2), og tegn i en figur.*        \n",
    "*(ii) Finn grenseproduktivitetens toppunkt.*     \n",
    "*(iii) Bruk dine funn for å forklare sammenhengen mellom grenseproduktivitet og skalautbytte.*"
   ]
  },
  {
   "cell_type": "code",
   "execution_count": 49,
   "id": "bac3e820-68cd-4ee7-8bb0-becea7a849af",
   "metadata": {},
   "outputs": [
    {
     "data": {
      "image/png": "[encoded data removed]",
      "text/plain": [
       "<Figure size 640x480 with 1 Axes>"
      ]
     },
     "metadata": {},
     "output_type": "display_data"
    }
   ],
   "source": [
    "def prod(c,N):\n",
    "    produksjon=1000*(c.exp(N)/(200+c.exp(N)))\n",
    "    return produksjon\n",
    "prod(sp,N)\n",
    "\n",
    "mp = sp.simplify(sp.diff(prod(sp,N),N))\n",
    "\n",
    "mp_fn = sp.lambdify(N,mp)\n",
    "\n",
    "fig ,ax = plt.subplots()\n",
    "ax.spines['top'].set_color('none')\n",
    "ax.spines['right'].set_color('none')\n",
    "ax.plot(n,mp_fn(n), label = 'grenseprod')\n",
    "ax.plot(n,overskudd(np,n), label = 'overskudd')\n",
    "ax.legend(loc= 'best', frameon = False);\n"
   ]
  },
  {
   "cell_type": "code",
   "execution_count": 71,
   "id": "f2315c26",
   "metadata": {},
   "outputs": [
    {
     "data": {
      "text/plain": [
       "5.298317366548036"
      ]
     },
     "execution_count": 71,
     "metadata": {},
     "output_type": "execute_result"
    }
   ],
   "source": [
    "marginalprod = sp.simplify(sp.diff(mp,N))\n",
    "toppunkt = float(sp.solve(marginalprod,N)[0])\n",
    "toppunkt"
   ]
  },
  {
   "cell_type": "markdown",
   "id": "36c47f56-0e27-452c-b027-d907fb9d67ef",
   "metadata": {},
   "source": [
    "### 3. Skalautbytte i Cobb-Douglas produktfunksjoner\n",
    "\n",
    "En bedrift bruker følgende Cobb-Douglas produktfunksjon til å lage et gode\n",
    "\n",
    "\n",
    "\\begin{equation}\n",
    "   x = f(N,K)=N^aK^{b}\\;\\;(3)\n",
    "\\end{equation}\n",
    "\n",
    "\n",
    "hvor $x$ er enheter ferdigprodukt, $N$ er enheter arbeidskraft (målt i timer), $K$ er enheter kapital og $a>0, b>0$ er konstante tall. (Sjekk at du vet hva $a$ og $b$ er!).   \n",
    "\n",
    "La oss undersøke skalaegenskapene til denne produktfunksjon ved å bruke fremgangsmåten i forrige avsnitt.\n"
   ]
  },
  {
   "cell_type": "code",
   "execution_count": null,
   "id": "58169ab0-04d2-4771-95ce-88a3706fdd95",
   "metadata": {},
   "outputs": [],
   "source": [
    "# definer nye symboler\n",
    "K, a, b = sp.symbols('K a b', positive=True, real=True)"
   ]
  },
  {
   "cell_type": "code",
   "execution_count": null,
   "id": "3b2dda72-9949-48d8-bb41-7e2430a72c75",
   "metadata": {},
   "outputs": [
    {
     "data": {
      "text/latex": [
       "$\\displaystyle K^{b} N^{a} \\left(2^{a + b} - 2\\right)$"
      ],
      "text/plain": [
       "K**b*N**a*(2**(a + b) - 2)"
      ]
     },
     "execution_count": 38,
     "metadata": {},
     "output_type": "execute_result"
    }
   ],
   "source": [
    "# definer produktfn\n",
    "def prod_cd(N,K,a,b):\n",
    "    return N**a*K**b\n",
    "\n",
    "# definer produksjon med 2N og 2K\n",
    "\n",
    "def prod_cd_2(N,K,a,b):\n",
    "    return (2*N)**a*(2*K)**b\n",
    "\n",
    "# finn \"overskudd\" fra en fordobling av innsats i forhold til dobbel så mye produksjon\n",
    "\n",
    "overskudd_cd=prod_cd_2(N,K,a,b)-2*prod_cd(N,K,a,b)\n",
    "sp.simplify(overskudd_cd)"
   ]
  },
  {
   "cell_type": "markdown",
   "id": "3b47e9b9-f46f-48da-827e-ec4a07321c02",
   "metadata": {},
   "source": [
    "Dersom dette uttrykket er positivt har vi med økende skalautbytte å gjøre. Vi ser at det er delen i parentes som vi må analysere, og her blir $a+b$ viktig for fortegnet her. Dersom $a+b=1$ er `overskudd_cd` = 0; dersom $a+b>1$ er `overskudd_cd` > 0; dersom $a+b<1$ er `overskudd_cd` < 0. Da har vi utledet et generelt resultat for Cobb-Douglas produktfunksjoner som i (3):        \n",
    "\n",
    "- $a+b<1$ betyr avtakende skalautbytte\n",
    "- $a+b=1$ betyr konstant skalautbytte\n",
    "- $a+b>1$ betyr økende skalautbytte.\n",
    "\n",
    "\n",
    "Skalautbytte er illustrert i boka Figur 4.8, 4.9, og 4.10."
   ]
  },
  {
   "cell_type": "markdown",
   "id": "4eb0fab4-efc1-4aea-a3d7-a2131af5456f",
   "metadata": {},
   "source": [
    "### 4. Skalautbytte i empirisk arbeid\n",
    "\n",
    "Produktfunskjoner av typen i (3) er ikke-lineære sammenhenger (variablene ganges sammen etter å ha blitt opphøyet med en eksponent!). Ved å ta logaritmer av begge sidene av uttrykket kan vi gjøre dette om til en lineær sammenheng (hvor variablene plusses sammen). Dette er mye enklere å jobbe med.       \n",
    "\n",
    "Tenk at vi har følgende produktfunksjon:\n",
    "\n",
    "\\begin{equation}\n",
    "   x = f(N,K)=Z N^aK^{b}\\tag{4}\n",
    "\\end{equation}\n",
    "\n",
    "hvor $Z>0$ kalles total faktorproduktivitet.        \n",
    "\n",
    "**Oppgave**       \n",
    "*a) Skriv om (4) ved å ta logaritmer av begge sidene, og vis at teknologien kan skrives som*   \n",
    "\n",
    "\\begin{equation}\n",
    "   ln x= ln Z + a ln N + b ln K\n",
    "\\end{equation}\n",
    "\n",
    "*b) Økonom X har data for faktorbruk og produksjon av produktet, og har estimert følgende sammenheng:*\n",
    "\n",
    "\n",
    "\\begin{equation}\n",
    "  ln x= 3.2 + 0.75 ln N + 1.1 ln K\n",
    "\\end{equation}\n",
    "\n",
    "*c) Hvor mye økes produksjon dersom bedriftseieren øker i) N med 10%, ii) K med 10%?*      \n",
    "\n",
    "*d) Viser estimatene at produksjonsprosessen karakteriseres av økende, avtakende eller konstant skalautbytte?*   \n"
   ]
  },
  {
   "cell_type": "code",
   "execution_count": null,
   "id": "6b577b87-aa59-4adb-ae14-3191038cda7b",
   "metadata": {},
   "outputs": [],
   "source": [
    "# skriv ditt svar her"
   ]
  },
  {
   "cell_type": "markdown",
   "id": "c34cb9b4-ed45-4044-ba71-84798c1d788a",
   "metadata": {},
   "source": [
    "**Oppgave**       \n",
    "\n",
    "[Ren og Jie (2019)](https://github.com/uit-sok-1006-v23/uit-sok-1006-v23.github.io/blob/main/artikler/Returns%20to%20scale%20China.pdf) estimerer produktfunksjoner for flere sektorer i Kina basert på data fra perioden 1993-2015. På side 361 spesifiserer de følgende produktfunksjon:\n",
    "\n",
    "\n",
    "$$ Y_{it} = A_i K^{\\alpha}_{it} (h_{it}  L_{it})^\\beta R^\\gamma_{it} e^{\\epsilon_{it}}$$\n",
    "\n",
    "\n",
    "\n",
    "hvor i er sektoren, t er tid, Y er produksjon i sektoren, K er kapitalen (og andre materialer) brukt, h er menneskelig kapital, L er mengde arbeidskraft, R er utgifter på Forskning og Utvikling (FoU), e er Eulers tall og $\\epsilon$ er et tilfeldig feiledd.   \n",
    "a) Hva måler $h  L$ i hver sektor? Hvorfor inkluderes FoU i produktfunksjon? Løser dette noen av problemene du identifiserte i første  oppgave i forelesning 7? Introduseres flere problemer? (Tenk på måleenheter for eksempel).           \n",
    "b) Gi en tolkning av $\\alpha, \\beta, \\gamma$. Forfatterne definerer videre $\\psi=\\alpha+\\beta+\\gamma$, og sier at $\\psi=1$ angir konstantskalautbytte, $\\psi<1$ avtakende skalautbytte, og $\\psi>1$ økende skalautbytte. Forklar hvorfor dette er tilfellet.    \n",
    "c) Skriv uttrykket som måler gjennomsnittsproduktiviteten til arbeidskraft $\\frac{Y_{it}}{(h_{it}  L_{it})}$.   \n",
    "d) Vis hvordan forfatterne utleder deres likning (2) på side 362 ved å ta logaritmer av begge sidene.   \n",
    "e) Ta logaritmer av begge sider av ditt svar på deloppgave (c) og vis hvordan forfatterne utleder sin likning (3).   \n",
    "f) Tallet som er fremfor variablen $ln (h_t  L_{it})$ er $(\\psi-1)$. Dette er et tall som forfatterne estimerer ved bruk av statistiske metoder, og som brukes for å tyde type skalautbytte i en sektor (se over ditt svar på deloppgave b). Hva viser skalaegenskapene dersom: (i) $\\psi-1=-0,6$, (ii) $\\psi-1=0,6$, (iii) $\\psi-1=0$?    \n",
    "g) Tabell II på side 366-7 gir resultatene av den statistiske modellen Her er to likninger estimert for hver sektor: (1) tar med FoU utgifter mens (2) utelater denne variablen. Se på tallene i kolonne 3 som er de estimerte verdiene av $\\psi-1$. Tall som er merket med en til tre stjerner er vi rimelig sikker på er ikke null (desto flere stjerner jo mer sikker er vi på dette - dere vil lære om dette til høsten i kurset om statistikk). Se på linjen i Tabell II for sektoren \"Production and supply of electricity, gas and water\". Tallet som måler $\\psi-1$ er 0.198 i modellen med FoU og 0.343 i modellen uten. Ingen av disse tallene er merket med en stjerne så de er statistisk lik null. Derav kommer konklusjonen om at denne sektoren viser konstant skalautbytte. Se på skalaegenskapene til de øvrige sektorene - er disse fornuftige konklusjoner tror du (for eksempel: resultatene viser at dersom man fordobler ressursbruk i produskjonen av \"machinery and equipment\" får man mer enn dobbel så mye output - hvordan forklarer du dette?).   \n",
    "\n"
   ]
  },
  {
   "attachments": {},
   "cell_type": "markdown",
   "id": "c8b7b26e",
   "metadata": {},
   "source": [
    "# svar\n",
    "\n",
    "a)\n",
    "hl måler kvaliteten på arbeidskraft, og fou inkluderes i funksjonen fordi det går en betydlige mengde utgifter til utvikling og forskning. \n",
    "\n",
    "b) \n",
    "alfa er elastisiteten til K. betta er elastisiteten til arbeidskraft eller kapital. gamma elastisiteten til utgifter til fou. \n",
    "\n",
    "summerer opp elastisitetene for å finne skalautbytte. \n",
    "\n"
   ]
  }
 ],
 "metadata": {
  "kernelspec": {
   "display_name": "Python 3",
   "language": "python",
   "name": "python3"
  },
  "language_info": {
   "codemirror_mode": {
    "name": "ipython",
    "version": 3
   },
   "file_extension": ".py",
   "mimetype": "text/x-python",
   "name": "python",
   "nbconvert_exporter": "python",
   "pygments_lexer": "ipython3",
   "version": "3.10.10"
  },
  "vscode": {
   "interpreter": {
    "hash": "eed5d0e98674c91e5b6a352f0a08e3131dd647db755fe385a4350c9735e61ebb"
   }
  }
 },
 "nbformat": 4,
 "nbformat_minor": 5
}
