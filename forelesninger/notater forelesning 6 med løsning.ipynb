{
 "cells": [
  {
   "cell_type": "markdown",
   "id": "4f58482a-21bc-4ff5-a423-9a125b6559cc",
   "metadata": {},
   "source": [
    "# SOK-1006 V23\n",
    "## Forelesning 6 - Økonomisk politikk: Prisregulering (med løsning)"
   ]
  },
  {
   "cell_type": "markdown",
   "id": "f99b70fe-a018-47e3-93d0-33bf5377b627",
   "metadata": {},
   "source": [
    "### 1. Et siste ord om avgifter\n",
    "\n",
    "I forelesning 5 har vi basert konklusjoner på ett eksempel. La oss nå undersøke likevekten med en avgift i en generell lineær markedsmodell. Vi skal se på en avgift på t kr per enhet som er ilagt produsentene."
   ]
  },
  {
   "cell_type": "code",
   "execution_count": 2,
   "id": "06c7e87a-a463-4037-8457-7061375fb927",
   "metadata": {},
   "outputs": [],
   "source": [
    "import sympy as sp"
   ]
  },
  {
   "cell_type": "code",
   "execution_count": 3,
   "id": "96148340-34c5-4907-bb06-9a65039a1f43",
   "metadata": {},
   "outputs": [],
   "source": [
    "# definer symbolene som vi kommer til å bruke\n",
    "x,p,t,a,b,A,B=sp.symbols('x p t a b A B', positive=True, real=True)"
   ]
  },
  {
   "cell_type": "code",
   "execution_count": 4,
   "id": "80e24c61-578d-41c8-9c94-fa8efa590e5e",
   "metadata": {},
   "outputs": [],
   "source": [
    "# Etterspørsel\n",
    "\n",
    "def x_d(p,a,b):\n",
    "    return a - b*p\n",
    "\n",
    "#Tilbud\n",
    "\n",
    "def x_s(p,A,B,t):\n",
    "    return -A+B*(p-t)"
   ]
  },
  {
   "cell_type": "markdown",
   "id": "cedbdc77-a503-4207-b7c4-5d4cf6958fe1",
   "metadata": {},
   "source": [
    "**Oppgave**       \n",
    "*(i) Sett opp likevektbetingelsen         \n",
    "(ii) Løs likevektsbetingelsen for pris og kvantum      \n",
    "(iii) Regn ut andelen av avgiften som betales av hver side av markedet      \n",
    "(iv) Finn en betingelse som gjør at konsumenter betaler mer enn 50% av avgiften, og forklar intuisjonen bak ditt funn.*"
   ]
  },
  {
   "cell_type": "code",
   "execution_count": 10,
   "id": "620b143c-858b-4166-a010-4f36dfc2df51",
   "metadata": {},
   "outputs": [
    {
     "data": {
      "text/latex": [
       "$\\displaystyle a - b p = - A + B \\left(p - t\\right)$"
      ],
      "text/plain": [
       "Eq(a - b*p, -A + B*(p - t))"
      ]
     },
     "execution_count": 10,
     "metadata": {},
     "output_type": "execute_result"
    }
   ],
   "source": [
    "# skriv ditt svar her\n",
    "# (i) likevekt\n",
    "likev=sp.Eq(x_d(p,a,b),x_s(p,A,B,t))\n",
    "likev"
   ]
  },
  {
   "cell_type": "code",
   "execution_count": 11,
   "id": "680eeb13-c4bd-4bd9-b424-8753ff19593c",
   "metadata": {},
   "outputs": [
    {
     "data": {
      "text/latex": [
       "$\\displaystyle \\frac{A + B t + a}{B + b}$"
      ],
      "text/plain": [
       "(A + B*t + a)/(B + b)"
      ]
     },
     "metadata": {},
     "output_type": "display_data"
    }
   ],
   "source": [
    "# (ii) løsning\n",
    "eq_d=sp.Eq(x,x_d(p,a,b))\n",
    "eq_s=sp.Eq(x,x_s(p,A,B,t))\n",
    "\n",
    "sol_dict=sp.solve ((eq_d, eq_s), (p,x))\n",
    "display(sol_dict[p])"
   ]
  },
  {
   "cell_type": "code",
   "execution_count": 12,
   "id": "5621ba5f-a3fe-4cf3-bcf6-022a92826d98",
   "metadata": {},
   "outputs": [
    {
     "data": {
      "text/latex": [
       "$\\displaystyle \\frac{- A b + B a - B b t}{B + b}$"
      ],
      "text/plain": [
       "(-A*b + B*a - B*b*t)/(B + b)"
      ]
     },
     "metadata": {},
     "output_type": "display_data"
    }
   ],
   "source": [
    "display(sol_dict[x])"
   ]
  },
  {
   "cell_type": "markdown",
   "id": "68dd9c5e-4bbc-4c78-8065-1933ab67d93e",
   "metadata": {},
   "source": [
    "Likevekt: $p=\\frac{A+Bt+a}{B+b}, x=\\frac{Ba-Ab-Bbt}{B+b}$."
   ]
  },
  {
   "cell_type": "code",
   "execution_count": 14,
   "id": "4b70f888-a3a8-4a91-b2a1-450f747eb830",
   "metadata": {},
   "outputs": [
    {
     "data": {
      "text/latex": [
       "$\\displaystyle \\frac{t \\left(- A b + B a - B b t\\right)}{B + b}$"
      ],
      "text/plain": [
       "t*(-A*b + B*a - B*b*t)/(B + b)"
      ]
     },
     "execution_count": 14,
     "metadata": {},
     "output_type": "execute_result"
    }
   ],
   "source": [
    "# (iii) \n",
    "# total proveny\n",
    "proveny = sp.lambdify((a,b,A,B,t), t*sol_dict[x])\n",
    "proveny(a,b,A,B,t)"
   ]
  },
  {
   "cell_type": "code",
   "execution_count": 16,
   "id": "d7690d04-ca90-48f2-a7b0-63db49b4dc47",
   "metadata": {},
   "outputs": [
    {
     "data": {
      "text/latex": [
       "$\\displaystyle \\frac{A + B t + a}{B + b}$"
      ],
      "text/plain": [
       "(A + B*t + a)/(B + b)"
      ]
     },
     "execution_count": 16,
     "metadata": {},
     "output_type": "execute_result"
    }
   ],
   "source": [
    "# pris betalt av konsumenten\n",
    "p_kons=sp.lambdify((a,b,A,B,t), sol_dict[p])\n",
    "p_kons(a,b,A,B,t)"
   ]
  },
  {
   "cell_type": "code",
   "execution_count": 18,
   "id": "2d5bdc32-7ab3-4538-9247-1061c7e2e3ae",
   "metadata": {},
   "outputs": [
    {
     "data": {
      "text/latex": [
       "$\\displaystyle \\frac{B}{B + b}$"
      ],
      "text/plain": [
       "B/(B + b)"
      ]
     },
     "execution_count": 18,
     "metadata": {},
     "output_type": "execute_result"
    }
   ],
   "source": [
    "# økning i pris p_kons-p_kons(t=0)\n",
    "# andel av økning på konsument = prisøkning/t\n",
    "\n",
    "andel_kons=sp.simplify((p_kons(a,b,A,B,t)-p_kons(a,b,A,B,0))/t)\n",
    "andel_kons"
   ]
  },
  {
   "cell_type": "markdown",
   "id": "48e3b25f-36f3-460f-ab0f-2608efee4b9f",
   "metadata": {},
   "source": [
    "(iv) andel betalt av konsumenten er over 0.5 dersom $B>b$. Dvs konsumenter betaler en større andel av avgiften dersom de er mindre følsom for prisendringer enn produsenter. Husk at $\\epsilon^D = -b\\frac{p}{x}, \\epsilon^S=B\\frac{p}{x}$. Når vi måler på et felles punkt (dvs samme $\\frac{p}{x}$) som likevekten med $t=0$, vil den relative prisfølsomheten bestemmes av sammenlikningen mellom $b$ og $B$."
   ]
  },
  {
   "cell_type": "markdown",
   "id": "538eae62-3e68-403d-aaef-87d4ffb32dc8",
   "metadata": {},
   "source": [
    "### 2. Direkte regulering av priser\n",
    "\n",
    "I Norge er det [Lov om pristiltak](https://lovdata.no/dokument/NL/lov/1993-06-11-66) som gir adgang til å regulere priser direkte. Eksempler på dette er maksimalpris eller minstepris (også kalt pristak og -gulv). Norske myndigheter bruker en maksimalpris på noen områder (for eksempel [legemidler](https://www.regjeringen.no/no/tema/helse-og-omsorg/legemidler/innsikt/prisregulering/id226506/), [drosjeturer](https://konkurransetilsynet.no/tema/drosje/prisregulering-og-maksimalpriser/) og [barnehageplasser](https://www.regjeringen.no/no/aktuelt/200-000-smabarnsfamiliar-far-billigare-barnehage/id2884980/)), men ikke andre (for eksempel [strøm](https://www.stortinget.no/no/Saker-og-publikasjoner/Sporsmal/Skriftlige-sporsmal-og-svar/Skriftlig-sporsmal/?qid=87148&utm_medium=rss&utm_source=www.stortinget.no&utm_campaign=Olje-%20og%20energiministeren%20(besvarte%20skriftlige%20sp%C3%B8rsm%C3%A5l))). \n",
    "\n"
   ]
  },
  {
   "cell_type": "markdown",
   "id": "769fc4e5-682f-4e98-8e30-4d7f8922f304",
   "metadata": {},
   "source": [
    "Effekten av innføring av en maksimalpris finner man i Fig 3.23 i læreboka."
   ]
  },
  {
   "cell_type": "markdown",
   "id": "16a1d6ea-ca0b-420d-aa3d-f571d20e3379",
   "metadata": {},
   "source": [
    "Bruk av minstepriser er noe mindre utbredt i Norge. De brukes for noen fiskeart, hvor minsteprisene er fastsatt av Norges Råfisklag. Begrunnelse for dette finnes i kap. 2.3 i en rapport levert Nærings- og fiskeridepartementet i 2016: [Forenklinger og forbedringer innen førstehåndsomsetningen av fisk](https://www.regjeringen.no/contentassets/2557a67dbb1944a69984936b8f71daef/forenklinger_og_forbedringer_nett.pdf).\n",
    "\n",
    "Det er også innført minstelønn i enkelte bransjer selv om Norge ikke har en generell minstelønn. Dette er fastsatt gjennom tariffavtaler. Se temaet hos [Arbeidstilsynet](https://www.arbeidstilsynet.no/arbeidsforhold/lonn/minstelonn/).\n",
    "\n",
    "Analyse av en innføring av minstpris finner man i Fig 3.24 i boka.\n"
   ]
  }
 ],
 "metadata": {
  "kernelspec": {
   "display_name": "Python 3",
   "language": "python",
   "name": "python3"
  },
  "language_info": {
   "codemirror_mode": {
    "name": "ipython",
    "version": 3
   },
   "file_extension": ".py",
   "mimetype": "text/x-python",
   "name": "python",
   "nbconvert_exporter": "python",
   "pygments_lexer": "ipython3",
   "version": "3.10.10"
  },
  "vscode": {
   "interpreter": {
    "hash": "eed5d0e98674c91e5b6a352f0a08e3131dd647db755fe385a4350c9735e61ebb"
   }
  }
 },
 "nbformat": 4,
 "nbformat_minor": 5
}
