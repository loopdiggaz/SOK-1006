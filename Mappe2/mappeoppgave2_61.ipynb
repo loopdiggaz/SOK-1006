{
  "cells": [
    {
      "cell_type": "markdown",
      "metadata": {},
      "source": [
        "## Innføring av bompenger i Tromsø. Effekter på bilisters atferd og velferd. \n",
        "\n",
        "### Kapittel 1. Innledning \n",
        "\n",
        "Bomstasjonene i Tromsø ble nylig satt i drift, 5. Januar 2023. Inntektene fra bomstasjonene er bilstene sitt bidrag til finansiering av bypakken Tenk Tromsø. Bidraget utgjør ca. 58 % av bypakkens totale økonomiske ramme på 6,5 milliarder kroner. Stat, kommune og fylke deler den øvrige finansiering mellom seg (Tenk Tromsø, u.å.).\n",
        "\n",
        "#### Kort om bomstasjonene \n",
        "\n",
        "Det er blitt satt opp 15 bomstasjoner i Tromsø, disse har som tidliger nevnt vært i drift fra og med 5. Januar 2023. Tanken bak plasseringen av bomstasjonene vært at de skal fange opp de største reisestrømmene i byområdet. Hensikten med dette er at flest mulig skal bidra til å betale. \n",
        "\n",
        "![Alt text](../../../../../../../../c:/Users/gusta/OneDrive/Dokumenter/GitHub/SOK1006/Mappe2/bomstasjoner%20troms%C3%B8.png)\n"
      ],
      "id": "fb91b761"
    }
  ],
  "metadata": {
    "kernelspec": {
      "display_name": "Python 3",
      "language": "python",
      "name": "python3"
    }
  },
  "nbformat": 4,
  "nbformat_minor": 5
}