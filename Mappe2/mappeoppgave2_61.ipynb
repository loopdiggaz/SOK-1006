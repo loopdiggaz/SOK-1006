{
  "cells": [
    {
      "attachments": {},
      "cell_type": "markdown",
      "id": "cb993c77",
      "metadata": {},
      "source": [
        "## Mappeoppgave 2 - Innføring av bompenger i Tromsø: Effekt på bilisters atferd og velferd\n",
        "\n",
        "### Kapittel 1. Innledning \n",
        "\n",
        "Bomstasjonene i Tromsø ble nylig satt i drift, 5. Januar 2023. Inntektene fra bomstasjonene er bilstene sitt bidrag til finansiering av bypakken Tenk Tromsø. Bidraget utgjør ca. 58 % av bypakkens totale økonomiske ramme som er på 6,5 milliarder kroner. På Tenk Tromsø sin nettside skriver de at bypakken er et byutviklingsprojekt der målet er å legge til rette for gange, sykkel og kollektivtransport slik at man oppnår hovedmålet om nullvekst i personbiltransport. Bypakken skal bidra til en mer fremtidsrettet by med bedre fremkommelighet for alle, bedre luft og mindre støy, som rommer vekst i antall hverdagsreiser samtidig som den sikrer et godt bymiljø for alle (Tenk Tromsø, u.å.) \n",
        "\n",
        "##### Kort om bomstasjonene \n",
        "\n",
        "Det er blitt satt opp 15 bomstasjoner i Tromsø, disse har som nevnt vært i drift fra og med 5. Januar 2023. Tanken bak plasseringen av bomstasjonene er at de skal fange opp de største reisestrømmene i byområdet. Hensikten med dette er at flest mulig skal bidra til å betale. \n",
        "\n",
        "Bilister kan anvende AutoPASS som sørger for at passeringer blir automatisk registert, og at man får korrekt rabatt. Når man bestiller AutoPASS-avtale får man en brikke i posten. Brikken festes på innsiden av bilens frontrute. Om man ikke eier en brikke vil man måtte betale full pris for alle gjennomkjøringer. Det er flere selskaper som tilbyr AutoPASS, men det er lik rabatt uansett hvilket selskap det gjøres avtale med. Alle som har en gyldig avtale vil motta en rabatt på 20%. Elbiler med avtale mottar ytterligere 50% rabatt. Det er bompengeselskapet Nord som har ansvaret for å kreve inn bompengene i Tromsø. Alle bomstasjonene har toveisinnkreving. Dvs at man betaler bompenger i begge retninger. Man betaler bare for en passering i timen selv om man kjører gjennom flere bomstajoner. Timesregelen gjelder bare for de som har AutoPASS-avtale. Det er også et månedstak der du maksimalt betaler for 80 passeringer. Månedstaker gjelder for alle kalendermånender, og kun for de med AutoPASS-avtale. I rushperiodene er det dobbel takst. Dette gjelder mandag - fredag mellom kl. 06:30-09:00 og kl. 15:00-17:00. Rushtidsavgiften gjelder ikke på helgedager og offisielle fridager (Tenk Tromsø u.å.)"
      ]
    },
    {
      "cell_type": "code",
      "execution_count": 68,
      "id": "492fffef",
      "metadata": {},
      "outputs": [
        {
          "name": "stdout",
          "output_type": "stream",
          "text": [
            "Takstgruppe 1 - Kjøretøy under 3,5 tonn\n"
          ]
        },
        {
          "data": {
            "text/markdown": [
              "\n",
              "|        -          | Bensin, diesel og ladbar hybrid  |            -           | Nullutslipskjøretøy |   -                       |\n",
              "|-------------------|:--------------------------------:|----------------------: |--------------------:|---------------------------|\n",
              "|        -          |  Fullpris                        | Gyldig avtale og brikke| Fullpris            |   Gyldig avtale og brikke |      \n",
              "| Alle bomstasjoner (15) |    12,00                    |   9,60                 | 12,00               |    4,80                   |\n"
            ],
            "text/plain": [
              "<IPython.core.display.Markdown object>"
            ]
          },
          "metadata": {},
          "output_type": "display_data"
        },
        {
          "name": "stdout",
          "output_type": "stream",
          "text": [
            "Rushtidsavgift 06:30-09:00 og 15:00-17:00\n"
          ]
        },
        {
          "data": {
            "text/markdown": [
              "\n",
              "|        -          | Bensin, diesel og ladbar hybrid  |  -                     | Nullutslipskjøretøy|   -                        |\n",
              "|-------------------|:--------------------------------:|----------------------: |-------------------:|----------------------------|\n",
              "|        -          |  Fullpris                        | Gyldig avtale og brikke| Fullpris           |   Gyldig avtale og brikke  |\n",
              "| Alle bomstasjoner (15) |    36,00                    |   28,80                |   36,00            |    14,40                   |\n"
            ],
            "text/plain": [
              "<IPython.core.display.Markdown object>"
            ]
          },
          "metadata": {},
          "output_type": "display_data"
        }
      ],
      "source": [
        "from IPython.display import Markdown\n",
        "print(\"Takstgruppe 1 - Kjøretøy under 3,5 tonn\")\n",
        "tbl=f\"\"\"\n",
        "|        -          | Bensin, diesel og ladbar hybrid  |            -           | Nullutslipskjøretøy |   -                       |\n",
        "|-------------------|:--------------------------------:|----------------------: |--------------------:|---------------------------|\n",
        "|        -          |  Fullpris                        | Gyldig avtale og brikke| Fullpris            |   Gyldig avtale og brikke |      \n",
        "| Alle bomstasjoner (15) |    12,00                    |   9,60                 | 12,00               |    4,80                   |\n",
        "\"\"\"\n",
        "display(Markdown(tbl))\n",
        "print(\"Rushtidsavgift 06:30-09:00 og 15:00-17:00\")\n",
        "tbl=f\"\"\"\n",
        "|        -          | Bensin, diesel og ladbar hybrid  |  -                     | Nullutslipskjøretøy|   -                        |\n",
        "|-------------------|:--------------------------------:|----------------------: |-------------------:|----------------------------|\n",
        "|        -          |  Fullpris                        | Gyldig avtale og brikke| Fullpris           |   Gyldig avtale og brikke  |\n",
        "| Alle bomstasjoner (15) |    36,00                    |   28,80                |   36,00            |    14,40                   |\n",
        "\"\"\"\n",
        "display(Markdown(tbl))"
      ]
    },
    {
      "attachments": {},
      "cell_type": "markdown",
      "id": "d604e563",
      "metadata": {},
      "source": [
        "### Kapittel 3. Bilisters tilpasning til bompenger. \n",
        "\n",
        "Modellen som brukes i analysen er en forenkling av virkeligheten. "
      ]
    },
    {
      "cell_type": "code",
      "execution_count": 69,
      "id": "d7c3f51f",
      "metadata": {},
      "outputs": [
        {
          "data": {
            "image/png": "[encoded data removed]",
            "text/plain": [
              "<Figure size 640x480 with 1 Axes>"
            ]
          },
          "metadata": {},
          "output_type": "display_data"
        }
      ],
      "source": [
        "from matplotlib import pyplot as plt\n",
        "fig, ax = plt.subplots()\n",
        "ax.spines['top'].set_color('none')\n",
        "ax.spines['right'].set_color('none')\n",
        "ax.set_xlabel('Antall km kjørt', loc = 'right')\n",
        "ax.set_ylabel('Andre goder', loc = 'top');"
      ]
    }
  ],
  "metadata": {
    "kernelspec": {
      "display_name": "Python 3",
      "language": "python",
      "name": "python3"
    },
    "language_info": {
      "codemirror_mode": {
        "name": "ipython",
        "version": 3
      },
      "file_extension": ".py",
      "mimetype": "text/x-python",
      "name": "python",
      "nbconvert_exporter": "python",
      "pygments_lexer": "ipython3",
      "version": "3.10.11"
    }
  },
  "nbformat": 4,
  "nbformat_minor": 5
}
