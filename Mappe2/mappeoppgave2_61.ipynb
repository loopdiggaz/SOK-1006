{
  "cells": [
    {
      "cell_type": "markdown",
      "metadata": {},
      "source": [
        "## Innføring av bompenger i Tromsø. Effekter på bilisters atferd og velferd. \n",
        "\n",
        "### Kapittel 1. Innledning \n",
        "\n",
        "Bomstasjonene i Tromsø ble nylig satt i drift, 5. Januar 2023. Inntektene fra bomstasjonene er bilstene sitt bidrag til finansiering av bypakken Tenk Tromsø. Bidraget utgjør ca. 58 % av bypakkens totale økonomiske ramme på 6,5 milliarder kroner. Stat, kommune og fylke deler den øvrige finansiering mellom seg (Tenk Tromsø, u.å.).\n",
        "\n",
        "##### Kort om bomstasjonene \n",
        "\n",
        "Det er blitt satt opp 15 bomstasjoner i Tromsø, disse har som nevnt vært i drift fra og med 5. Januar 2023. Tanken bak plasseringen av bomstasjonene er at de skal fange opp de største reisestrømmene i byområdet. Hensikten med dette er at flest mulig skal bidra til å betale. \n"
      ],
      "id": "528bda5d"
    },
    {
      "cell_type": "code",
      "metadata": {},
      "source": [
        "from matplotlib import pyplot as plt\n",
        "fig, ax = plt.subplots()"
      ],
      "id": "5ad50a96",
      "execution_count": null,
      "outputs": []
    }
  ],
  "metadata": {
    "kernelspec": {
      "display_name": "Python 3",
      "language": "python",
      "name": "python3"
    }
  },
  "nbformat": 4,
  "nbformat_minor": 5
}