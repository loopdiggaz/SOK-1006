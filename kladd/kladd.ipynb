{
 "cells": [
  {
   "cell_type": "code",
   "execution_count": 2,
   "metadata": {},
   "outputs": [],
   "source": [
    "import sympy as sp "
   ]
  },
  {
   "cell_type": "code",
   "execution_count": 3,
   "metadata": {},
   "outputs": [],
   "source": [
    "y,z,a,ø_y,ø_pi,b,y_n,pi,pi_s,pi_e = sp.symbols('y z a ø_y ø_pi b y_n pi pi_s pi_e', positive=True, real=True) "
   ]
  },
  {
   "cell_type": "code",
   "execution_count": 4,
   "metadata": {},
   "outputs": [
    {
     "data": {
      "text/latex": [
       "$\\displaystyle a b y_{n} ø_{\\pi} - a \\pi_{e} ø_{\\pi} + a \\pi_{e} + a \\pi_{s} ø_{\\pi} + a y_{n} ø_{y} + y_{n} + z = a b y ø_{\\pi} + a y ø_{y} + y$"
      ],
      "text/plain": [
       "Eq(a*b*y_n*ø_pi - a*pi_e*ø_pi + a*pi_e + a*pi_s*ø_pi + a*y_n*ø_y + y_n + z, a*b*y*ø_pi + a*y*ø_y + y)"
      ]
     },
     "execution_count": 4,
     "metadata": {},
     "output_type": "execute_result"
    }
   ],
   "source": [
    "eq = sp.Eq(z + a*ø_y*y_n - a*ø_pi*pi_e + a*ø_pi*b*y_n + a*ø_pi*pi_s+a*pi_e+y_n,y + a*ø_y*y + a*ø_pi*b*y)\n",
    "eq"
   ]
  },
  {
   "cell_type": "code",
   "execution_count": 5,
   "metadata": {},
   "outputs": [
    {
     "data": {
      "text/latex": [
       "$\\displaystyle y \\left(a b ø_{\\pi} + a ø_{y} + 1\\right) = a b y_{n} ø_{\\pi} - a \\pi_{e} ø_{\\pi} + a \\pi_{e} + a \\pi_{s} ø_{\\pi} + a y_{n} ø_{y} + y_{n} + z$"
      ],
      "text/plain": [
       "Eq(y*(a*b*ø_pi + a*ø_y + 1), a*b*y_n*ø_pi - a*pi_e*ø_pi + a*pi_e + a*pi_s*ø_pi + a*y_n*ø_y + y_n + z)"
      ]
     },
     "execution_count": 5,
     "metadata": {},
     "output_type": "execute_result"
    }
   ],
   "source": [
    "eq_y = sp.simplify(eq)\n",
    "eq_y"
   ]
  },
  {
   "cell_type": "code",
   "execution_count": 6,
   "metadata": {},
   "outputs": [
    {
     "data": {
      "text/latex": [
       "$\\displaystyle \\frac{a b y_{n} ø_{\\pi} - a \\pi_{e} ø_{\\pi} + a \\pi_{e} + a \\pi_{s} ø_{\\pi} + a y_{n} ø_{y} + y_{n} + z}{a b ø_{\\pi} + a ø_{y} + 1}$"
      ],
      "text/plain": [
       "(a*b*y_n*ø_pi - a*pi_e*ø_pi + a*pi_e + a*pi_s*ø_pi + a*y_n*ø_y + y_n + z)/(a*b*ø_pi + a*ø_y + 1)"
      ]
     },
     "execution_count": 6,
     "metadata": {},
     "output_type": "execute_result"
    }
   ],
   "source": [
    "sol_y = sp.solve(eq_y,y)\n",
    "sol_y[0]"
   ]
  },
  {
   "cell_type": "code",
   "execution_count": 7,
   "metadata": {},
   "outputs": [],
   "source": [
    "y_n = 0"
   ]
  },
  {
   "cell_type": "code",
   "execution_count": 8,
   "metadata": {},
   "outputs": [
    {
     "data": {
      "text/latex": [
       "$\\displaystyle - a \\pi_{e} ø_{\\pi} + a \\pi_{e} + a \\pi_{s} ø_{\\pi} + z = a b y ø_{\\pi} + a y ø_{y} + y$"
      ],
      "text/plain": [
       "Eq(-a*pi_e*ø_pi + a*pi_e + a*pi_s*ø_pi + z, a*b*y*ø_pi + a*y*ø_y + y)"
      ]
     },
     "execution_count": 8,
     "metadata": {},
     "output_type": "execute_result"
    }
   ],
   "source": [
    "eq = sp.Eq(z + a*ø_y*y_n - a*ø_pi*pi_e + a*ø_pi*b*y_n + a*ø_pi*pi_s+a*pi_e+y_n,y + a*ø_y*y + a*ø_pi*b*y)\n",
    "eq"
   ]
  },
  {
   "cell_type": "code",
   "execution_count": 9,
   "metadata": {},
   "outputs": [
    {
     "data": {
      "text/latex": [
       "$\\displaystyle y \\left(a b ø_{\\pi} + a ø_{y} + 1\\right) = - a \\pi_{e} ø_{\\pi} + a \\pi_{e} + a \\pi_{s} ø_{\\pi} + z$"
      ],
      "text/plain": [
       "Eq(y*(a*b*ø_pi + a*ø_y + 1), -a*pi_e*ø_pi + a*pi_e + a*pi_s*ø_pi + z)"
      ]
     },
     "execution_count": 9,
     "metadata": {},
     "output_type": "execute_result"
    }
   ],
   "source": [
    "eq_y = sp.simplify(eq)\n",
    "eq_y"
   ]
  },
  {
   "cell_type": "code",
   "execution_count": 10,
   "metadata": {},
   "outputs": [
    {
     "data": {
      "text/latex": [
       "$\\displaystyle \\frac{- a \\pi_{e} ø_{\\pi} + a \\pi_{e} + a \\pi_{s} ø_{\\pi} + z}{a b ø_{\\pi} + a ø_{y} + 1}$"
      ],
      "text/plain": [
       "(-a*pi_e*ø_pi + a*pi_e + a*pi_s*ø_pi + z)/(a*b*ø_pi + a*ø_y + 1)"
      ]
     },
     "execution_count": 10,
     "metadata": {},
     "output_type": "execute_result"
    }
   ],
   "source": [
    "sol_y = sp.solve(eq_y,y)\n",
    "sol_y[0]"
   ]
  },
  {
   "cell_type": "code",
   "execution_count": 11,
   "metadata": {},
   "outputs": [
    {
     "data": {
      "text/latex": [
       "$\\displaystyle a \\left(- \\pi_{e} ø_{\\pi} + \\pi_{e} + \\pi_{s} ø_{\\pi}\\right)$"
      ],
      "text/plain": [
       "a*(-pi_e*ø_pi + pi_e + pi_s*ø_pi)"
      ]
     },
     "execution_count": 11,
     "metadata": {},
     "output_type": "execute_result"
    }
   ],
   "source": [
    "brøk = sp.simplify(-a*pi_e*ø_pi + a*pi_e + a*pi_s*ø_pi + z)\n",
    "brøk\n",
    "\n",
    "brøk2 = sp.simplify(-a*pi_e*ø_pi + a*pi_e + a*pi_s*ø_pi)\n",
    "brøk2"
   ]
  }
 ],
 "metadata": {
  "kernelspec": {
   "display_name": "Python 3",
   "language": "python",
   "name": "python3"
  },
  "language_info": {
   "codemirror_mode": {
    "name": "ipython",
    "version": 3
   },
   "file_extension": ".py",
   "mimetype": "text/x-python",
   "name": "python",
   "nbconvert_exporter": "python",
   "pygments_lexer": "ipython3",
   "version": "3.10.11"
  },
  "orig_nbformat": 4,
  "vscode": {
   "interpreter": {
    "hash": "eed5d0e98674c91e5b6a352f0a08e3131dd647db755fe385a4350c9735e61ebb"
   }
  }
 },
 "nbformat": 4,
 "nbformat_minor": 2
}
